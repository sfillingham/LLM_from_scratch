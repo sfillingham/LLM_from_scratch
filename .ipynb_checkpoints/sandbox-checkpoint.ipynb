{
 "cells": [
  {
   "cell_type": "markdown",
   "id": "93f6466d-dc35-485a-87b1-9ec8d52c33e6",
   "metadata": {},
   "source": [
    "### Chapter 2 problems and Workspace"
   ]
  },
  {
   "cell_type": "code",
   "execution_count": 1,
   "id": "abe13bc9-2f18-40c4-99db-a61de055435e",
   "metadata": {},
   "outputs": [],
   "source": [
    "from importlib.metadata import version\n",
    "from importlib import reload\n",
    "\n",
    "import tiktoken\n",
    "import torch"
   ]
  },
  {
   "cell_type": "code",
   "execution_count": 2,
   "id": "c3094859-b41e-4215-a3f0-635f2d547f76",
   "metadata": {},
   "outputs": [
    {
     "name": "stdout",
     "output_type": "stream",
     "text": [
      "Tiktoken version: 0.8.0\n"
     ]
    }
   ],
   "source": [
    "print(f\"Tiktoken version: {version('tiktoken')}\")"
   ]
  },
  {
   "cell_type": "code",
   "execution_count": 3,
   "id": "1b804ab2-d906-4fb1-a4ba-fe6418e60d08",
   "metadata": {},
   "outputs": [],
   "source": [
    "tokenizer = tiktoken.get_encoding('gpt2')"
   ]
  },
  {
   "cell_type": "code",
   "execution_count": 4,
   "id": "bdca446e-53de-45b1-9d7d-c1f8e8f6a27b",
   "metadata": {},
   "outputs": [],
   "source": [
    "text = (\"Hello, do you like tea? <|endoftext|> In the sunlit terraces of someunknownPlace.\")"
   ]
  },
  {
   "cell_type": "code",
   "execution_count": 5,
   "id": "2f6a19b4-71e0-448a-99f0-6b70c90f228d",
   "metadata": {},
   "outputs": [
    {
     "name": "stdout",
     "output_type": "stream",
     "text": [
      "[15496, 11, 466, 345, 588, 8887, 30, 220, 50256, 554, 262, 4252, 18250, 8812, 2114, 286, 617, 34680, 27271, 13]\n"
     ]
    }
   ],
   "source": [
    "integers = tokenizer.encode(text, allowed_special={\"<|endoftext|>\"})\n",
    "print(integers)"
   ]
  },
  {
   "cell_type": "code",
   "execution_count": 6,
   "id": "fcb8720c-a7da-4419-8b17-e8c2286beed7",
   "metadata": {},
   "outputs": [
    {
     "name": "stdout",
     "output_type": "stream",
     "text": [
      "Hello, do you like tea? <|endoftext|> In the sunlit terraces of someunknownPlace.\n"
     ]
    }
   ],
   "source": [
    "strings = tokenizer.decode(integers)\n",
    "print(strings)"
   ]
  },
  {
   "cell_type": "markdown",
   "id": "d8a4032c-c44c-4ef4-b0f4-e07ca691e8fa",
   "metadata": {},
   "source": [
    "**Problem 2.1**"
   ]
  },
  {
   "cell_type": "code",
   "execution_count": 7,
   "id": "2cfe4592-4581-4c81-a8f6-5ecf648dd05f",
   "metadata": {},
   "outputs": [
    {
     "name": "stdout",
     "output_type": "stream",
     "text": [
      "[33901, 86, 343, 86, 220, 959]\n"
     ]
    }
   ],
   "source": [
    "text = 'Akwirw ier'\n",
    "integers = tokenizer.encode(text)\n",
    "print(integers)"
   ]
  },
  {
   "cell_type": "code",
   "execution_count": 8,
   "id": "d65a2537-6839-4c01-a3ac-ae247aa17f3e",
   "metadata": {},
   "outputs": [
    {
     "name": "stdout",
     "output_type": "stream",
     "text": [
      "33901: Ak\n",
      "86: w\n",
      "343: ir\n",
      "86: w\n",
      "220:  \n",
      "959: ier\n"
     ]
    }
   ],
   "source": [
    "for i in integers:\n",
    "    print(f\"{i}: {tokenizer.decode([i])}\")"
   ]
  },
  {
   "cell_type": "code",
   "execution_count": 9,
   "id": "4be6f23e-57cf-418c-986d-b37521a20dde",
   "metadata": {},
   "outputs": [
    {
     "name": "stdout",
     "output_type": "stream",
     "text": [
      "Akwirw ier\n"
     ]
    }
   ],
   "source": [
    "strings = tokenizer.decode(integers)\n",
    "print(strings)"
   ]
  },
  {
   "cell_type": "markdown",
   "id": "74504843-95d1-4828-af7d-76470e13445a",
   "metadata": {},
   "source": [
    "**Problem 2.2**"
   ]
  },
  {
   "cell_type": "code",
   "execution_count": 10,
   "id": "13f7fe03-6d4d-4e02-a96b-ceae9cfec2e6",
   "metadata": {},
   "outputs": [],
   "source": [
    "from data_loaders import create_dataloader_v1"
   ]
  },
  {
   "cell_type": "code",
   "execution_count": 11,
   "id": "8045f76f-112f-42ba-ac0b-d22969d29fb1",
   "metadata": {},
   "outputs": [],
   "source": [
    "with open('the-verdict.txt', 'r') as file:\n",
    "    raw_text = file.read()"
   ]
  },
  {
   "cell_type": "code",
   "execution_count": 12,
   "id": "7bafbeb5-5769-4ebd-a707-1146998c47db",
   "metadata": {},
   "outputs": [],
   "source": [
    "dataloader = create_dataloader_v1(raw_text, batchsize=8, max_length=4, stride=4, shuffle=False)"
   ]
  },
  {
   "cell_type": "code",
   "execution_count": 13,
   "id": "74bd9a70-1932-4fe0-bf48-5779fcdee6bf",
   "metadata": {},
   "outputs": [],
   "source": [
    "data_iter = iter(dataloader)"
   ]
  },
  {
   "cell_type": "code",
   "execution_count": 14,
   "id": "0c23c3d9-65d2-466e-b693-35a453a17c90",
   "metadata": {},
   "outputs": [],
   "source": [
    "# Only run this cell for the specific answers to problem 2.2\n",
    "#first_batch = next(data_iter)\n",
    "#print(first_batch)\n",
    "#second_batch = next(data_iter)\n",
    "#print(second_batch)"
   ]
  },
  {
   "cell_type": "code",
   "execution_count": 15,
   "id": "8a9eccc3-3814-46e5-92d3-955953cadff1",
   "metadata": {},
   "outputs": [],
   "source": [
    "inputs, targets = next(data_iter)"
   ]
  },
  {
   "cell_type": "code",
   "execution_count": 16,
   "id": "43ed568f-7112-413b-b2c6-e86146c87415",
   "metadata": {},
   "outputs": [
    {
     "name": "stdout",
     "output_type": "stream",
     "text": [
      "Inputs: \n",
      "tensor([[   40,   367,  2885,  1464],\n",
      "        [ 1807,  3619,   402,   271],\n",
      "        [10899,  2138,   257,  7026],\n",
      "        [15632,   438,  2016,   257],\n",
      "        [  922,  5891,  1576,   438],\n",
      "        [  568,   340,   373,   645],\n",
      "        [ 1049,  5975,   284,   502],\n",
      "        [  284,  3285,   326,    11]], dtype=torch.int32)\n",
      "Targets: \n",
      "tensor([[  367,  2885,  1464,  1807],\n",
      "        [ 3619,   402,   271, 10899],\n",
      "        [ 2138,   257,  7026, 15632],\n",
      "        [  438,  2016,   257,   922],\n",
      "        [ 5891,  1576,   438,   568],\n",
      "        [  340,   373,   645,  1049],\n",
      "        [ 5975,   284,   502,   284],\n",
      "        [ 3285,   326,    11,   287]], dtype=torch.int32)\n"
     ]
    }
   ],
   "source": [
    "print(f\"Inputs: \\n{inputs}\")\n",
    "print(f\"Targets: \\n{targets}\")"
   ]
  },
  {
   "cell_type": "markdown",
   "id": "1976d76c-d57f-4eb0-af64-25b1e8df681f",
   "metadata": {},
   "source": [
    "### Practice Embedding "
   ]
  },
  {
   "cell_type": "code",
   "execution_count": 17,
   "id": "154672eb-7965-45f2-8ff7-d0f3f1d6fd45",
   "metadata": {},
   "outputs": [],
   "source": [
    "vocab_size = 50257\n",
    "output_dim = 256\n",
    "token_embedding_layer = torch.nn.Embedding(vocab_size, output_dim)"
   ]
  },
  {
   "cell_type": "code",
   "execution_count": 18,
   "id": "16af2011-30fb-4b35-9ce4-28e11bc34d21",
   "metadata": {},
   "outputs": [
    {
     "name": "stdout",
     "output_type": "stream",
     "text": [
      "torch.Size([8, 4, 256])\n"
     ]
    }
   ],
   "source": [
    "token_embeddings = token_embedding_layer(inputs)\n",
    "print(token_embeddings.shape)"
   ]
  },
  {
   "cell_type": "code",
   "execution_count": 19,
   "id": "01af59da-37d9-433e-b8af-42c2369f24e3",
   "metadata": {},
   "outputs": [
    {
     "data": {
      "text/plain": [
       "torch.Size([4, 256])"
      ]
     },
     "execution_count": 19,
     "metadata": {},
     "output_type": "execute_result"
    }
   ],
   "source": [
    "context_length = 4\n",
    "pos_embedding_layer = torch.nn.Embedding(context_length, output_dim)\n",
    "pos_embeddings = pos_embedding_layer(torch.arange(context_length))\n",
    "pos_embeddings.shape"
   ]
  },
  {
   "cell_type": "code",
   "execution_count": 21,
   "id": "4134ffee-a5e6-4455-b98d-0dcaeaed00f4",
   "metadata": {},
   "outputs": [
    {
     "name": "stdout",
     "output_type": "stream",
     "text": [
      "torch.Size([8, 4, 256])\n"
     ]
    }
   ],
   "source": [
    "input_embeddings = token_embeddings + pos_embeddings\n",
    "print(input_embeddings.shape)"
   ]
  },
  {
   "cell_type": "markdown",
   "id": "60dd979b-b0de-42e5-b6a6-dc191a744948",
   "metadata": {},
   "source": [
    "### Chapter 3 Problems and Workspace"
   ]
  },
  {
   "cell_type": "code",
   "execution_count": 24,
   "id": "d9e65dff-8627-4ea0-a5b6-3d70c6baf778",
   "metadata": {},
   "outputs": [
    {
     "data": {
      "text/plain": [
       "tensor([[[ 1.0736,  0.4360,  0.9885,  ..., -0.5934, -1.0030, -0.0854],\n",
       "         [-2.2119, -2.2621,  0.0704,  ...,  1.6679, -2.4852,  0.8691],\n",
       "         [-1.2695, -0.3846, -0.0680,  ...,  2.0078,  1.0111,  0.5809],\n",
       "         [-0.6202, -1.5450, -0.6746,  ...,  0.5351,  0.2974,  1.2981]],\n",
       "\n",
       "        [[ 1.0736,  0.4360,  0.9885,  ..., -0.5934, -1.0030, -0.0854],\n",
       "         [-2.2119, -2.2621,  0.0704,  ...,  1.6679, -2.4852,  0.8691],\n",
       "         [-1.2695, -0.3846, -0.0680,  ...,  2.0078,  1.0111,  0.5809],\n",
       "         [-0.6202, -1.5450, -0.6746,  ...,  0.5351,  0.2974,  1.2981]],\n",
       "\n",
       "        [[ 1.0736,  0.4360,  0.9885,  ..., -0.5934, -1.0030, -0.0854],\n",
       "         [-2.2119, -2.2621,  0.0704,  ...,  1.6679, -2.4852,  0.8691],\n",
       "         [-1.2695, -0.3846, -0.0680,  ...,  2.0078,  1.0111,  0.5809],\n",
       "         [-0.6202, -1.5450, -0.6746,  ...,  0.5351,  0.2974,  1.2981]],\n",
       "\n",
       "        ...,\n",
       "\n",
       "        [[ 1.0736,  0.4360,  0.9885,  ..., -0.5934, -1.0030, -0.0854],\n",
       "         [-2.2119, -2.2621,  0.0704,  ...,  1.6679, -2.4852,  0.8691],\n",
       "         [-1.2695, -0.3846, -0.0680,  ...,  2.0078,  1.0111,  0.5809],\n",
       "         [-0.6202, -1.5450, -0.6746,  ...,  0.5351,  0.2974,  1.2981]],\n",
       "\n",
       "        [[ 1.0736,  0.4360,  0.9885,  ..., -0.5934, -1.0030, -0.0854],\n",
       "         [-2.2119, -2.2621,  0.0704,  ...,  1.6679, -2.4852,  0.8691],\n",
       "         [-1.2695, -0.3846, -0.0680,  ...,  2.0078,  1.0111,  0.5809],\n",
       "         [-0.6202, -1.5450, -0.6746,  ...,  0.5351,  0.2974,  1.2981]],\n",
       "\n",
       "        [[ 1.0736,  0.4360,  0.9885,  ..., -0.5934, -1.0030, -0.0854],\n",
       "         [-2.2119, -2.2621,  0.0704,  ...,  1.6679, -2.4852,  0.8691],\n",
       "         [-1.2695, -0.3846, -0.0680,  ...,  2.0078,  1.0111,  0.5809],\n",
       "         [-0.6202, -1.5450, -0.6746,  ...,  0.5351,  0.2974,  1.2981]]],\n",
       "       grad_fn=<SubBackward0>)"
      ]
     },
     "execution_count": 24,
     "metadata": {},
     "output_type": "execute_result"
    }
   ],
   "source": []
  },
  {
   "cell_type": "code",
   "execution_count": null,
   "id": "1b2f030a-cb72-4c4f-9fb1-a538c01c0238",
   "metadata": {},
   "outputs": [],
   "source": []
  }
 ],
 "metadata": {
  "kernelspec": {
   "display_name": "Python 3 (ipykernel)",
   "language": "python",
   "name": "python3"
  },
  "language_info": {
   "codemirror_mode": {
    "name": "ipython",
    "version": 3
   },
   "file_extension": ".py",
   "mimetype": "text/x-python",
   "name": "python",
   "nbconvert_exporter": "python",
   "pygments_lexer": "ipython3",
   "version": "3.12.7"
  }
 },
 "nbformat": 4,
 "nbformat_minor": 5
}
