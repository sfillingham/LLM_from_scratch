{
 "cells": [
  {
   "cell_type": "code",
   "execution_count": 1,
   "id": "872d97e1-428a-4c64-a8a6-ed2f63ec7786",
   "metadata": {},
   "outputs": [
    {
     "data": {
      "text/plain": [
       "'/Volumes/MacMini/llm_from_scratch/LLM_from_scratch'"
      ]
     },
     "execution_count": 1,
     "metadata": {},
     "output_type": "execute_result"
    }
   ],
   "source": [
    "pwd"
   ]
  },
  {
   "cell_type": "code",
   "execution_count": 2,
   "id": "abe13bc9-2f18-40c4-99db-a61de055435e",
   "metadata": {},
   "outputs": [
    {
     "name": "stdout",
     "output_type": "stream",
     "text": [
      "\u001b[31mLICENSE\u001b[m\u001b[m*         \u001b[31mdata_loaders.py\u001b[m\u001b[m* \u001b[31msandbox.ipynb\u001b[m\u001b[m*\n",
      "\u001b[31mREADME.md\u001b[m\u001b[m*       \u001b[31msandbox.\u001b[m\u001b[m*        \u001b[31mtokenizers.py\u001b[m\u001b[m*\n"
     ]
    }
   ],
   "source": [
    "ls"
   ]
  },
  {
   "cell_type": "code",
   "execution_count": null,
   "id": "c3094859-b41e-4215-a3f0-635f2d547f76",
   "metadata": {},
   "outputs": [],
   "source": []
  }
 ],
 "metadata": {
  "kernelspec": {
   "display_name": "Python 3 (ipykernel)",
   "language": "python",
   "name": "python3"
  },
  "language_info": {
   "codemirror_mode": {
    "name": "ipython",
    "version": 3
   },
   "file_extension": ".py",
   "mimetype": "text/x-python",
   "name": "python",
   "nbconvert_exporter": "python",
   "pygments_lexer": "ipython3",
   "version": "3.12.7"
  }
 },
 "nbformat": 4,
 "nbformat_minor": 5
}
