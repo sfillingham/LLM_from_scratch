{
 "cells": [
  {
   "cell_type": "code",
   "execution_count": 1,
   "id": "38e12937-664b-471d-8c54-71eca9eec3f9",
   "metadata": {},
   "outputs": [],
   "source": [
    "import torch\n",
    "from model_architecture import GPTModel"
   ]
  },
  {
   "cell_type": "code",
   "execution_count": null,
   "id": "0f823671-0208-465f-83f9-3f4e9ac5ab7d",
   "metadata": {},
   "outputs": [],
   "source": [
    "GPT_CONFIG_124M = {\n",
    "    'vocab_size': 50257,\n",
    "    'context_length': 256, # This is non-standard for training purposes (1024 is normal for GPT-2 models)\n",
    "    'emb_dim': 768,\n",
    "    'n_heads': 12,\n",
    "    'n_layers': 12,\n",
    "    'drop_rate_emb': 0.1,\n",
    "    'drop_rate_shortcut': 0.1,\n",
    "    'drop_rate_attn': 0.1,\n",
    "    'qkv_bias': False,\n",
    "}"
   ]
  }
 ],
 "metadata": {
  "kernelspec": {
   "display_name": "Python 3 (ipykernel)",
   "language": "python",
   "name": "python3"
  },
  "language_info": {
   "codemirror_mode": {
    "name": "ipython",
    "version": 3
   },
   "file_extension": ".py",
   "mimetype": "text/x-python",
   "name": "python",
   "nbconvert_exporter": "python",
   "pygments_lexer": "ipython3",
   "version": "3.12.7"
  }
 },
 "nbformat": 4,
 "nbformat_minor": 5
}
